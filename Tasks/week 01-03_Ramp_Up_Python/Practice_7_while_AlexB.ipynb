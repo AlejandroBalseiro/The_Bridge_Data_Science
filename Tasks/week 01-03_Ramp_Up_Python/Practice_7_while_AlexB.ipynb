{
 "cells": [
  {
   "cell_type": "markdown",
   "metadata": {},
   "source": [
    "# Python | day 7 | while"
   ]
  },
  {
   "cell_type": "markdown",
   "metadata": {},
   "source": [
    "With the **while** loop we can execute a set of statements as long as a condition is true."
   ]
  },
  {
   "cell_type": "markdown",
   "metadata": {},
   "source": [
    "```python\n",
    "i = 1\n",
    "while i < 6:\n",
    "  print(i)\n",
    "  i += 1\n",
    "```"
   ]
  },
  {
   "cell_type": "markdown",
   "metadata": {},
   "source": [
    "https://www.w3schools.com/python/python_while_loops.asp"
   ]
  },
  {
   "cell_type": "markdown",
   "metadata": {},
   "source": [
    "### Exercise 1. "
   ]
  },
  {
   "cell_type": "markdown",
   "metadata": {},
   "source": [
    "Do as described below:\n",
    "\n",
    "- Make a variable called strength, and set its initial value to 5.\n",
    "\n",
    "- Print a message reporting the player's strength.\n",
    "\n",
    "- Set up a while loop that runs until the player's strength increases to a value such as 10.\n",
    "\n",
    "- Inside the while loop, print a message that reports the player's current strength.\n",
    "\n",
    "- Inside the while loop, write a statement that increases the player's strength.\n",
    "\n",
    "- Outside the while loop, print a message reporting that the player has grown too strong, and that they have moved up to a new level of the game.\n",
    "\n",
    "Play around with different cutoff levels for the value of strength, and play around with different ways to increase the strength value within the while loop.\n"
   ]
  },
  {
   "cell_type": "code",
   "execution_count": 7,
   "metadata": {},
   "outputs": [
    {
     "output_type": "stream",
     "name": "stdout",
     "text": [
      "tu fuerza de jugador es: 5\ntu fuerza ahora es: 6\ntu fuerza ahora es: 7\ntu fuerza ahora es: 8\ntu fuerza ahora es: 9\ntu fuerza ahora es: 10\ntu fuerza ahora es: 11\n¡Eres demasiado fuerte!\n ¡PASAS DE NIVEL!\n"
     ]
    }
   ],
   "source": [
    "strength = 5\n",
    "print(\"tu fuerza de jugador es:\",strength)\n",
    "\n",
    "while strength <= 10:\n",
    "    strength += 1\n",
    "    print(\"tu fuerza ahora es:\",strength)\n",
    "\n",
    "print(\"¡Eres demasiado fuerte!\\n ¡PASAS DE NIVEL!\")\n"
   ]
  },
  {
   "cell_type": "markdown",
   "metadata": {},
   "source": [
    "### Exercise 2. "
   ]
  },
  {
   "cell_type": "markdown",
   "metadata": {},
   "source": [
    "To solve the following exercises it will be necessary to define a function for each section. You choose the name of those functions unless specified, but make sure you define a single parameter `whichever_list`, when calling the function it will correspond to the variable `info_list`."
   ]
  },
  {
   "cell_type": "code",
   "execution_count": 8,
   "metadata": {},
   "outputs": [],
   "source": [
    "# you can use this list or take yours from Practice 3\n",
    "info_list = [15, 'Recoletos', True, ['Recoletos', 15],  None, '8'] "
   ]
  },
  {
   "cell_type": "markdown",
   "metadata": {},
   "source": [
    "You have already read these questions below, but this time you are asked to solve it using `while` loop instead of `for`. \n",
    "\n",
    "   - Loop through `whichever_list` to print all the elements it contains. This function should return the list turned into a tuple. \n",
    "   - Loop through `whichever_list` to print all the elements it contains concatenated with the string` \"--> OK\" `. This function should return a message saying, `\"everything will be ok\"`. \n",
    "   - Loop through `whichever_list` to display all items it contains except the first one. This function should return the first element of the list. \n",
    "   - Loop through `whichever_list` to display all the items it contains except the last one. This function should return the last element of the list. "
   ]
  },
  {
   "cell_type": "code",
   "execution_count": 9,
   "metadata": {},
   "outputs": [
    {
     "output_type": "stream",
     "name": "stdout",
     "text": [
      "15\nRecoletos\nTrue\n['Recoletos', 15]\nNone\n8\n"
     ]
    }
   ],
   "source": [
    "def imprime(whichever_list):\n",
    "    i = 0\n",
    "    while i < len(whichever_list):\n",
    "        print(whichever_list[i])\n",
    "        i += 1\n",
    "\n",
    "imprime(info_list)"
   ]
  },
  {
   "cell_type": "code",
   "execution_count": 10,
   "metadata": {},
   "outputs": [
    {
     "output_type": "stream",
     "name": "stdout",
     "text": [
      "15--> OK\nRecoletos--> OK\nTrue--> OK\n['Recoletos', 15]--> OK\nNone--> OK\n8--> OK\n"
     ]
    },
    {
     "output_type": "execute_result",
     "data": {
      "text/plain": [
       "'everthing will be ok'"
      ]
     },
     "metadata": {},
     "execution_count": 10
    }
   ],
   "source": [
    "def check(whichever_list):\n",
    "    i = 0\n",
    "    while i < len(whichever_list):\n",
    "        print(str(whichever_list[i])+\"--> OK\")\n",
    "        i += 1\n",
    "    return(\"everthing will be ok\")\n",
    "\n",
    "check(info_list)"
   ]
  },
  {
   "cell_type": "code",
   "execution_count": 11,
   "metadata": {},
   "outputs": [
    {
     "output_type": "stream",
     "name": "stdout",
     "text": [
      "Recoletos\nTrue\n['Recoletos', 15]\nNone\n8\n"
     ]
    },
    {
     "output_type": "execute_result",
     "data": {
      "text/plain": [
       "15"
      ]
     },
     "metadata": {},
     "execution_count": 11
    }
   ],
   "source": [
    "def primero(whichever_list):\n",
    "    i = 1\n",
    "    while i < len(whichever_list):\n",
    "        print(whichever_list[i])\n",
    "        i += 1\n",
    "    \n",
    "    return whichever_list[0]\n",
    "\n",
    "primero(info_list)"
   ]
  },
  {
   "cell_type": "code",
   "execution_count": 12,
   "metadata": {},
   "outputs": [
    {
     "output_type": "stream",
     "name": "stdout",
     "text": [
      "15\n",
      "Recoletos\n",
      "True\n",
      "['Recoletos', 15]\n",
      "None\n"
     ]
    },
    {
     "output_type": "execute_result",
     "data": {
      "text/plain": [
       "'8'"
      ]
     },
     "metadata": {},
     "execution_count": 12
    }
   ],
   "source": [
    "def ultimo(whichever_list):\n",
    "    i = 0\n",
    "    while i < len(whichever_list)-1:\n",
    "        print(whichever_list[i])\n",
    "        i += 1\n",
    "    \n",
    "    return whichever_list[-1]\n",
    "\n",
    "ultimo(info_list)"
   ]
  },
  {
   "source": [
    "## Hasta aquí todo bien, firmado QA/Tester"
   ],
   "cell_type": "markdown",
   "metadata": {}
  },
  {
   "cell_type": "markdown",
   "metadata": {},
   "source": [
    "1. Define a function that performs the [Fibonacci series](https://quantdare.com/numeros-de-fibonacci/#:~:text=En%20matem%C3%A1ticas%2C%20la%20sucesi%C3%B3n%20o,nombre%20de%20n%C3%BAmero%20de%20Fibonacci.) with a `while`."
   ]
  },
  {
   "cell_type": "code",
   "execution_count": 13,
   "metadata": {},
   "outputs": [
    {
     "output_type": "stream",
     "name": "stdout",
     "text": [
      "Fibonacci con 5 iteraciones es:\t [1, 1, 2, 3, 5, 8]\nFibonacci con limite 100 es:\t [1, 1, 2, 3, 5, 8, 13, 21, 34, 55, 89]\n"
     ]
    }
   ],
   "source": [
    "def fibo_ite(n = 10):\n",
    "    # definimos el numero de iteraciones que queremos que haga\n",
    "    i = 1\n",
    "    fib = 1\n",
    "    fibo=[]\n",
    "    fibo.append(1)\n",
    "    while i <= n:\n",
    "        fibo.append(fib)\n",
    "        fib += fibo[i-1]  \n",
    "        i += 1\n",
    "    return fibo\n",
    "\n",
    "def fibo_lim(n = 150):\n",
    "    # definimos el límite de fibonacci\n",
    "    fib = 1\n",
    "    i=0\n",
    "    fibo=[]\n",
    "    fibo.append(1)\n",
    "    while fib < n:\n",
    "        fibo.append(fib)\n",
    "        fib += fibo[i]\n",
    "        i += 1\n",
    "    return fibo\n",
    "ite = 5\n",
    "lim = 100\n",
    "\n",
    "fib1 = fibo_ite(ite)\n",
    "fib2 = fibo_lim(lim)\n",
    "print(\"Fibonacci con\",ite,\"iteraciones es:\\t\",fib1)\n",
    "print(\"Fibonacci con limite\",lim,\"es:\\t\",fib2)\n",
    "\n"
   ]
  },
  {
   "cell_type": "markdown",
   "metadata": {},
   "source": [
    "### Exercise 4."
   ]
  },
  {
   "cell_type": "markdown",
   "metadata": {},
   "source": [
    "To solve the following exercises it will be necessary to define a function for each section. You choose the name of those functions unless specified, but make sure you define a single parameter `whichever_list`, when calling the function it will correspond to the variable `info_list`."
   ]
  },
  {
   "cell_type": "code",
   "execution_count": 14,
   "metadata": {},
   "outputs": [],
   "source": [
    "# you can use this list or take yours from Practice 3\n",
    "info_list = [15, 'Recoletos', True, ['Recoletos', 15],  None, '8'] "
   ]
  },
  {
   "cell_type": "markdown",
   "metadata": {},
   "source": [
    "1. Define a function that saves the value of `\"nothing\"` in a variable and print it. Also, concatenate its value with the number of The Bridge and display it on the screen. \n",
    "\n",
    "   Also, display a boolean **True** if the length of the concatenated word is 6. If not, it will be **False**. The function must return the value **True** or **False** and the name of this function will be `f_s`."
   ]
  },
  {
   "cell_type": "code",
   "execution_count": 15,
   "metadata": {},
   "outputs": [
    {
     "output_type": "stream",
     "name": "stdout",
     "text": [
      "nothing15\n"
     ]
    },
    {
     "output_type": "execute_result",
     "data": {
      "text/plain": [
       "True"
      ]
     },
     "metadata": {},
     "execution_count": 15
    }
   ],
   "source": [
    "def f_s(whichever_list):\n",
    "    nada = \"nothing\"\n",
    "    nada = nada + str(whichever_list[0])\n",
    "    print(nada)\n",
    "\n",
    "    if len(nada) >= 6:\n",
    "        return True\n",
    "    else:\n",
    "        return False\n",
    "\n",
    "f_s(info_list)"
   ]
  },
  {
   "cell_type": "markdown",
   "metadata": {},
   "source": [
    "### Bonus Track."
   ]
  },
  {
   "cell_type": "markdown",
   "metadata": {},
   "source": [
    "2. Create a list `list_aux` with 7 elements, whichever you want. Next, create a function `function_use_f_s` which receives as parameters a function `some_function` and whichever list `whichever_list`. If the value of `some_function` is **True**, then delete an item from `whichever_list`. Repeat the process until `whichever_list` has no elements. The argument for `whichever_list` must be `list_aux` and for `some_function` it will be the function `f_s` from the previous point."
   ]
  },
  {
   "cell_type": "code",
   "execution_count": 16,
   "metadata": {},
   "outputs": [
    {
     "output_type": "stream",
     "name": "stdout",
     "text": [
      "nothing15\n--------\n\n['Recoletos', True, ['Recoletos', 15], None, '8']\nnothingRecoletos\n--------\n\n[True, ['Recoletos', 15], None, '8']\nnothingTrue\n--------\n\n[['Recoletos', 15], None, '8']\nnothing['Recoletos', 15]\n--------\n\n[None, '8']\nnothingNone\n--------\n\n['8']\nnothing8\n--------\n\n[]\n"
     ]
    }
   ],
   "source": [
    "list_aux = info_list\n",
    "\n",
    "def function_use_f_s(some_function,whichever_list):\n",
    "    if some_function(whichever_list) == True and len(whichever_list)>0:\n",
    "        whichever_list.pop(0)\n",
    "    return whichever_list\n",
    "\n",
    "while len(list_aux) > 0:\n",
    "    function_use_f_s(f_s,list_aux)\n",
    "    print(\"--------\\n\")\n",
    "    print(list_aux)\n",
    "    "
   ]
  },
  {
   "cell_type": "markdown",
   "metadata": {},
   "source": [
    "3. Define a function `even_numbers` that has an input parameter `arg1`, type integer. The function must return a list of numbers of size `arg1`, all of them being even numbers. \n",
    "\n",
    "   Don't use the function `print()` inside the function, but print what `even_numbers` returns when calling it with the argument `10`, just to check your function works.\n",
    "   \n",
    "```python\n",
    "print(even_numbers(10))\n",
    "```"
   ]
  },
  {
   "cell_type": "code",
   "execution_count": 17,
   "metadata": {},
   "outputs": [
    {
     "output_type": "stream",
     "name": "stdout",
     "text": [
      "[2, 4, 6, 8, 10, 12, 14, 16, 18, 20]\n"
     ]
    }
   ],
   "source": [
    "def even_numbers (arg1):\n",
    "    i = 1\n",
    "    pares = []\n",
    "    while i <= int(arg1):\n",
    "        pares.append(i*2)\n",
    "        i += 1\n",
    "    \n",
    "    return pares\n",
    "\n",
    "print(even_numbers(10))\n"
   ]
  },
  {
   "cell_type": "markdown",
   "metadata": {},
   "source": [
    "4. Create a function that has an input variable `arg1`, which will be the list of even numbers from the previous section, and that removes elements from the list, one by one, if `arg1` has a size divisible by 2 and, if not, it adds just once, the value of the function `f_s` that should be a boolean (`True` or `False`).\n"
   ]
  },
  {
   "cell_type": "code",
   "execution_count": 28,
   "metadata": {},
   "outputs": [
    {
     "output_type": "stream",
     "name": "stdout",
     "text": [
      "nothing2\n"
     ]
    },
    {
     "output_type": "execute_result",
     "data": {
      "text/plain": [
       "[2, 4, 6, 8, 10, 12, 14, 16, 18, True]"
      ]
     },
     "metadata": {},
     "execution_count": 28
    }
   ],
   "source": [
    "#éste es más dificil entender que piden que realmente hacerlo... creo yo\n",
    "\n",
    "def funcion_rara(arg1,some_function):\n",
    "\n",
    "    if len(arg1)%2 == 0:\n",
    "        while len(arg1)>0:\n",
    "            print(arg1)\n",
    "            arg1.pop(0)            \n",
    "    else :\n",
    "        arg1.append(some_function(arg1))\n",
    "    \n",
    "    return arg1\n",
    "\n",
    "num = 9\n",
    "funcion_rara(even_numbers(num),f_s)\n",
    "\n",
    "\n"
   ]
  },
  {
   "cell_type": "markdown",
   "metadata": {},
   "source": [
    "!['nicetry'](https://i.pinimg.com/originals/36/ab/81/36ab81cd8d63cf7c4a08f39403698c77.jpg)"
   ]
  },
  {
   "cell_type": "code",
   "execution_count": null,
   "metadata": {},
   "outputs": [],
   "source": []
  }
 ],
 "metadata": {
  "kernelspec": {
   "name": "python3",
   "display_name": "Python 3.9.0 64-bit",
   "metadata": {
    "interpreter": {
     "hash": "7812ea015bdcee6f23a998adcdd2ef97c151c0c241b7b7070987d9313e41299d"
    }
   }
  },
  "language_info": {
   "codemirror_mode": {
    "name": "ipython",
    "version": 3
   },
   "file_extension": ".py",
   "mimetype": "text/x-python",
   "name": "python",
   "nbconvert_exporter": "python",
   "pygments_lexer": "ipython3",
   "version": "3.9.0-final"
  }
 },
 "nbformat": 4,
 "nbformat_minor": 4
}