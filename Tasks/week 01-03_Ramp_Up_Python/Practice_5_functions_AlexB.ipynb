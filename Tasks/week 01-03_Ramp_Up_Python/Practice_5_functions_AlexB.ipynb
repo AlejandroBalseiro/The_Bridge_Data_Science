{
 "cells": [
  {
   "cell_type": "markdown",
   "metadata": {},
   "source": [
    "# Python | day 5 | functions"
   ]
  },
  {
   "cell_type": "markdown",
   "metadata": {},
   "source": [
    "In Python, a function is a group of related statements that performs a specific task."
   ]
  },
  {
   "cell_type": "markdown",
   "metadata": {},
   "source": [
    "https://www.programiz.com/python-programming/function"
   ]
  },
  {
   "cell_type": "markdown",
   "metadata": {},
   "source": [
    "#### Difference between `return` and `print`.\n",
    "\n",
    "Take some minutes to understand the difference between `return` and `print`, it seems to be the same, but they are not and it's important you understand the difference. "
   ]
  },
  {
   "cell_type": "code",
   "execution_count": 3,
   "metadata": {},
   "outputs": [
    {
     "name": "stdout",
     "output_type": "stream",
     "text": [
      "2\n",
      "4\n",
      "8\n"
     ]
    }
   ],
   "source": [
    "def suma(a,b):\n",
    "    print(a)\n",
    "    return a+b\n",
    "\n",
    "print(suma(suma(2,2),4))"
   ]
  },
  {
   "cell_type": "markdown",
   "metadata": {},
   "source": [
    "#### Comments in a function."
   ]
  },
  {
   "cell_type": "code",
   "execution_count": 4,
   "metadata": {},
   "outputs": [],
   "source": [
    "def say_hello(name):\n",
    "    \"\"\"\n",
    "    Given a name as an argument, \n",
    "    the function return a string greeting\n",
    "    the name given. \n",
    "    \"\"\"\n",
    "    return f\"hello {name}\""
   ]
  },
  {
   "cell_type": "code",
   "execution_count": 6,
   "metadata": {},
   "outputs": [
    {
     "name": "stdout",
     "output_type": "stream",
     "text": [
      "hello Clara\n"
     ]
    }
   ],
   "source": [
    "print(say_hello(\"Clara\"))"
   ]
  },
  {
   "cell_type": "code",
   "execution_count": 7,
   "metadata": {},
   "outputs": [
    {
     "name": "stdout",
     "output_type": "stream",
     "text": [
      "Help on function say_hello in module __main__:\n",
      "\n",
      "say_hello(name)\n",
      "    Given a name as an argument, \n",
      "    the function return a string greeting\n",
      "    the name given.\n",
      "\n"
     ]
    }
   ],
   "source": [
    "help(say_hello)"
   ]
  },
  {
   "cell_type": "markdown",
   "metadata": {},
   "source": [
    "### Exercise 1. "
   ]
  },
  {
   "cell_type": "markdown",
   "metadata": {},
   "source": [
    "To solve the following exercises it will be necessary to define a function for each section. You choose the name of those functions unless specified, but make sure you define a single parameter `whichever_list`, when calling the function it will correspond to the variable `info_list`.\n"
   ]
  },
  {
   "cell_type": "code",
   "execution_count": 1,
   "metadata": {},
   "outputs": [],
   "source": [
    "# you can use this list or take yours from Practice 3\n",
    "info_list = [15, 'Recoletos', True, ['Recoletos', 15],  None, '8'] "
   ]
  },
  {
   "cell_type": "code",
   "execution_count": null,
   "metadata": {},
   "outputs": [],
   "source": []
  },
  {
   "cell_type": "markdown",
   "metadata": {},
   "source": [
    "1. Display on the screen `\"I like the tranquility\"` if you like the mountains more and `\"I'd love to live in Malaga\"` if you like the beach more.\n",
    "\n",
    "**Remember you should define a function which do exactly that but for a list called `whichever_list`, the parameter. \n",
    "After you've done that call the funtion giving `info_list` as the argument.**"
   ]
  },
  {
   "cell_type": "code",
   "execution_count": 5,
   "metadata": {},
   "outputs": [
    {
     "output_type": "stream",
     "name": "stdout",
     "text": [
      "I like the tranquility\n"
     ]
    }
   ],
   "source": [
    "def donde_vivir(whichever_list):\n",
    "    if whichever_list[2] == True:\n",
    "        print(\"I'd love to live in Malaga\")\n",
    "    else:\n",
    "        print(\"I like the tranquility\" )\n",
    "\n",
    "donde_vivir(info_list)"
   ]
  },
  {
   "cell_type": "markdown",
   "metadata": {},
   "source": [
    "2. Print `\"Today I am tired\"` if you have slept less than 7 hours or `\"Today I conquer the world\"` if you have slept more than 7 hours."
   ]
  },
  {
   "cell_type": "code",
   "execution_count": 6,
   "metadata": {},
   "outputs": [
    {
     "output_type": "stream",
     "name": "stdout",
     "text": [
      "Today I conquer the world\n"
     ]
    }
   ],
   "source": [
    "def dormido(whichever_list):\n",
    "    if float(whichever_list[-1])<=  7:\n",
    "        print(\"Today I am tired\" )\n",
    "    else:\n",
    "        print(\"Today I conquer the world\" )\n",
    "\n",
    "dormido(info_list)"
   ]
  },
  {
   "cell_type": "markdown",
   "metadata": {},
   "source": [
    "3. Loop through `whichever_list` to print all the elements it contains. This function should return the list turned into a tuple. "
   ]
  },
  {
   "cell_type": "code",
   "execution_count": 7,
   "metadata": {},
   "outputs": [
    {
     "output_type": "stream",
     "name": "stdout",
     "text": [
      "15\nRecoletos\nTrue\n['Recoletos', 15]\nNone\n8\n"
     ]
    },
    {
     "output_type": "execute_result",
     "data": {
      "text/plain": [
       "(15, 'Recoletos', True, ['Recoletos', 15], None, '8')"
      ]
     },
     "metadata": {},
     "execution_count": 7
    }
   ],
   "source": [
    "def con_tup (whichever_list):\n",
    "    for x in whichever_list:\n",
    "        print(x)\n",
    "    return tuple(whichever_list)\n",
    "\n",
    "con_tup(info_list)\n"
   ]
  },
  {
   "cell_type": "markdown",
   "metadata": {},
   "source": [
    "4. Loop through `whichever_list` to print all the elements it contains concatenated with the string` \"--> OK\" `. This function should return a message saying, `\"everything will be ok\"`. \n"
   ]
  },
  {
   "cell_type": "code",
   "execution_count": 10,
   "metadata": {},
   "outputs": [
    {
     "output_type": "stream",
     "name": "stdout",
     "text": [
      "15-->OK\nRecoletos-->OK\nTrue-->OK\n['Recoletos', 15]-->OK\nNone-->OK\n8-->OK\n"
     ]
    },
    {
     "output_type": "execute_result",
     "data": {
      "text/plain": [
       "'everything will be ok'"
      ]
     },
     "metadata": {},
     "execution_count": 10
    }
   ],
   "source": [
    "def check_list(whichever_list):\n",
    "    for x in whichever_list:\n",
    "        print(str(x) + \"-->OK\")\n",
    "\n",
    "    return \"everything will be ok\"\n",
    "\n",
    "check_list(info_list)"
   ]
  },
  {
   "cell_type": "markdown",
   "metadata": {},
   "source": [
    "5. Loop through `whichever_list` to display all items it contains except the first one. This function should return the first element of the list. "
   ]
  },
  {
   "cell_type": "code",
   "execution_count": 15,
   "metadata": {},
   "outputs": [
    {
     "output_type": "stream",
     "name": "stdout",
     "text": [
      "Recoletos\nTrue\n['Recoletos', 15]\nNone\n8\n"
     ]
    },
    {
     "output_type": "execute_result",
     "data": {
      "text/plain": [
       "15"
      ]
     },
     "metadata": {},
     "execution_count": 15
    }
   ],
   "source": [
    "def menos_primero(whichever_list):\n",
    "    for x in range(len(whichever_list)):\n",
    "        if x > 0:\n",
    "            print(whichever_list[x])\n",
    "    return whichever_list[0]\n",
    "\n",
    "menos_primero(info_list)\n"
   ]
  },
  {
   "cell_type": "markdown",
   "metadata": {},
   "source": [
    "6. Loop through `whichever_list` to display all the items it contains except the last one. This function should return the last element of the list. "
   ]
  },
  {
   "cell_type": "code",
   "execution_count": 19,
   "metadata": {},
   "outputs": [
    {
     "output_type": "stream",
     "name": "stdout",
     "text": [
      "15\nRecoletos\nTrue\n['Recoletos', 15]\nNone\n"
     ]
    },
    {
     "output_type": "execute_result",
     "data": {
      "text/plain": [
       "'8'"
      ]
     },
     "metadata": {},
     "execution_count": 19
    }
   ],
   "source": [
    "def menos_ultimo(whichever_list):\n",
    "    for x in range(len(whichever_list)):\n",
    "        if x <len(whichever_list)-1:\n",
    "            print(whichever_list[x])\n",
    "    return whichever_list[-1]\n",
    "\n",
    "menos_ultimo(info_list)"
   ]
  },
  {
   "cell_type": "markdown",
   "metadata": {},
   "source": [
    "7. Loop through `whichever_list` to show all the elements it contains except the street number and the hours you've slept."
   ]
  },
  {
   "cell_type": "code",
   "execution_count": 21,
   "metadata": {},
   "outputs": [
    {
     "output_type": "stream",
     "name": "stdout",
     "text": [
      "Recoletos\nTrue\n['Recoletos', 15]\nNone\n"
     ]
    }
   ],
   "source": [
    "def menos_dos(whichever_list):\n",
    "    for x in range(len(whichever_list)):\n",
    "        if x > 0 and x <len(whichever_list)-1:\n",
    "            print(whichever_list[x])\n",
    "\n",
    "menos_dos(info_list)"
   ]
  },
  {
   "cell_type": "markdown",
   "metadata": {},
   "source": [
    "8. Loop through `whichever_list` to print all the elements it contains except the first element of the list which is in fifth position `'Recoletos'`. This function should return the lenght of that element. "
   ]
  },
  {
   "cell_type": "code",
   "execution_count": 25,
   "metadata": {},
   "outputs": [
    {
     "output_type": "stream",
     "name": "stdout",
     "text": [
      "15\nRecoletos\nTrue\n15\nNone\n8\n"
     ]
    },
    {
     "output_type": "execute_result",
     "data": {
      "text/plain": [
       "9"
      ]
     },
     "metadata": {},
     "execution_count": 25
    }
   ],
   "source": [
    "def menos_dir(whichever_list):\n",
    "    for x in range(len(whichever_list)):\n",
    "        if x != 3:\n",
    "            print(whichever_list[x])\n",
    "        else:\n",
    "            print(whichever_list[3][1])\n",
    "\n",
    "    return len(whichever_list[3][0])\n",
    "\n",
    "menos_dir(info_list)"
   ]
  },
  {
   "cell_type": "markdown",
   "metadata": {},
   "source": [
    "9. Loop through `whichever_list` to show all the elements it contains except the one that contains the information about whether you like the mountains or the beach. The function should return a message saying `\"I love the beach\"` if you prefer the beach and a message saying `\"I love the mountain\"` otherwise. "
   ]
  },
  {
   "cell_type": "code",
   "execution_count": 27,
   "metadata": {},
   "outputs": [
    {
     "output_type": "stream",
     "name": "stdout",
     "text": [
      "15\nRecoletos\n['Recoletos', 15]\nNone\n8\n"
     ]
    },
    {
     "output_type": "execute_result",
     "data": {
      "text/plain": [
       "'I love the beach'"
      ]
     },
     "metadata": {},
     "execution_count": 27
    }
   ],
   "source": [
    "def donde_vivir2(whichever_list):\n",
    "\n",
    "    for x in whichever_list:\n",
    "        if type(x) is not bool:\n",
    "            print(x)\n",
    "\n",
    "    if whichever_list[2] == True:\n",
    "        return \"I love the beach\"\n",
    "    else:\n",
    "        return \"I love the mountain\" \n",
    "\n",
    "donde_vivir2(info_list)"
   ]
  },
  {
   "cell_type": "markdown",
   "metadata": {},
   "source": [
    "### Exercise 2. \n",
    "\n",
    "In the case of not being able to solve a question containing the code in a function, try to do it without defining one. "
   ]
  },
  {
   "cell_type": "markdown",
   "metadata": {},
   "source": [
    "1. Create a variable called `zone` and give it the value of **None**. Loop through `whichever_list` and update `zone` to **True** if and only if, you have slept more than 7 hours, you like the beach and the sum of the hours you have slept plus the number of The Bridge is less than 24. For any other case, `zone` will be **False**. This function should return the value of `zone` and will be called `zone_function`.\n"
   ]
  },
  {
   "cell_type": "code",
   "execution_count": 53,
   "metadata": {},
   "outputs": [
    {
     "output_type": "execute_result",
     "data": {
      "text/plain": [
       "True"
      ]
     },
     "metadata": {},
     "execution_count": 53
    }
   ],
   "source": [
    "def zone_function(whichever_list):\n",
    "\n",
    "     if (float(whichever_list[-1]) >= 7) and (whichever_list[2] == True) and ((float(whichever_list[-1]) + whichever_list[0]) < 24):\n",
    "        return True\n",
    "     else:\n",
    "         return False\n",
    "\n",
    "zone = None\n",
    "\n",
    "zone = zone_function(info_list)\n",
    "zone"
   ]
  },
  {
   "cell_type": "markdown",
   "metadata": {},
   "source": [
    "2. Define a function called `test_function` that receives only one parameter called `zone_value` and that returns the value of `zone_value` if it is **True**. Once you've defined `test_function` you should call it with the value returned by the `zone_function` as an argument."
   ]
  },
  {
   "cell_type": "code",
   "execution_count": 54,
   "metadata": {},
   "outputs": [],
   "source": [
    "def test_function (zone_value):\n",
    "    if zone_function is True:\n",
    "        return True\n",
    "\n",
    "\n",
    "test_function(zone_function(info_list))"
   ]
  },
  {
   "cell_type": "markdown",
   "metadata": {},
   "source": [
    "3. Define a function that asks the user if they like the mountain and, if not, call the `zone_function` function."
   ]
  },
  {
   "cell_type": "code",
   "execution_count": 59,
   "metadata": {},
   "outputs": [],
   "source": [
    "def ask():\n",
    "    c = input(\"do you like the mountain (y/n)?\")\n",
    "    if c == \"N\" or c == \"n\":\n",
    "        zone_function(info_list)\n",
    "\n",
    "ask()"
   ]
  },
  {
   "cell_type": "markdown",
   "metadata": {},
   "source": [
    "### Bonus Track.\n",
    "\n",
    "**This Bonus Track could take you some days, it is very ok, sometimes coding is all about time.**\n",
    "\n",
    "This week, you'll also learn about `.py` files and you will be able to implement this program into that kind of file. Not yet, tho. "
   ]
  },
  {
   "cell_type": "markdown",
   "metadata": {},
   "source": [
    "1. Program **a calculator** that asks for two numbers and two operators on the screen. One operation must be performed first and then another. Try to define as many functions as possible."
   ]
  },
  {
   "cell_type": "code",
   "execution_count": 6,
   "metadata": {},
   "outputs": [
    {
     "output_type": "stream",
     "name": "stdout",
     "text": [
      "2.0 + 3.0 = 5.0\n",
      "2.0 - 3.0 = -1.0\n",
      "2.0 / 3.0 = 0.6666666666666666\n",
      "2.0 // 3.0 = 0.0\n",
      "2.0 % 3.0 = 2.0\n",
      "2.0 x 3.0 = 6.0\n",
      "2.0 ^ 3.0 = 8.0\n"
     ]
    }
   ],
   "source": [
    "import calculadora\n",
    "\n",
    "a = float(input(\"Escriba el primer número\"))\n",
    "b = float(input(\"Escriba el segundo número\"))\n",
    "\n",
    "\n",
    "stop = False\n",
    "\n",
    "while stop == False:\n",
    "    op = int(input(\"1: suma\\n2: resta\\n3: division\\n4: division absoluta\\n5: resto\\n6: multiplicacion\\n7: potencia\\n8: cambio numero\\n9: EXIT\"))\n",
    "    if op == 1:\n",
    "        res = calculadora.suma(a,b)\n",
    "        print(a,\"+\",b,\"=\",res)\n",
    "    elif op == 2:\n",
    "        res = calculadora.resta(a,b)\n",
    "        print(a,\"-\",b,\"=\",res)\n",
    "    elif op == 3:\n",
    "        res = calculadora.division(a,b)\n",
    "        print(a,\"/\",b,\"=\",res)\n",
    "    elif op == 4:\n",
    "        res = calculadora.div_abs(a,b)\n",
    "        print(a,\"//\",b,\"=\",res)\n",
    "    elif op == 5:\n",
    "        res = calculadora.resto(a,b)\n",
    "        print(a,\"%\",b,\"=\",res)\n",
    "    elif op == 6:\n",
    "        res = calculadora.multip(a,b)\n",
    "        print(a,\"x\",b,\"=\",res)\n",
    "    elif op == 7:\n",
    "        res = calculadora.potencia(a,b)\n",
    "        print(a,\"^\",b,\"=\",res)\n",
    "    elif op == 8:\n",
    "        a = float(input(\"Escriba el primer número\"))\n",
    "        b = float(input(\"Escriba el segundo número\"))\n",
    "    elif op == 9:\n",
    "        stop = True\n",
    "    else:\n",
    "        print(\"Operación no reconocida, intente de nuevo\")\n",
    "    \n",
    "    \n",
    "\n",
    "    \n"
   ]
  },
  {
   "cell_type": "markdown",
   "metadata": {},
   "source": [
    "!['ha'](https://i.pinimg.com/originals/c6/4e/fc/c64efc9adaedbf446f328698e8b67388.jpg)"
   ]
  },
  {
   "cell_type": "code",
   "execution_count": null,
   "metadata": {},
   "outputs": [],
   "source": []
  }
 ],
 "metadata": {
  "kernelspec": {
   "name": "python3",
   "display_name": "Python 3.9.0 64-bit",
   "metadata": {
    "interpreter": {
     "hash": "7812ea015bdcee6f23a998adcdd2ef97c151c0c241b7b7070987d9313e41299d"
    }
   }
  },
  "language_info": {
   "codemirror_mode": {
    "name": "ipython",
    "version": 3
   },
   "file_extension": ".py",
   "mimetype": "text/x-python",
   "name": "python",
   "nbconvert_exporter": "python",
   "pygments_lexer": "ipython3",
   "version": "3.9.0-final"
  }
 },
 "nbformat": 4,
 "nbformat_minor": 4
}