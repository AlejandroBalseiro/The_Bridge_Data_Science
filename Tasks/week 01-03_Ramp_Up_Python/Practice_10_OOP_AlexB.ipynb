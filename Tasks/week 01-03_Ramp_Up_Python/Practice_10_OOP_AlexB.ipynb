{
 "cells": [
  {
   "cell_type": "markdown",
   "metadata": {},
   "source": [
    "# Python | day 11 | object oriented programming"
   ]
  },
  {
   "cell_type": "markdown",
   "metadata": {},
   "source": [
    "#### ¡Practice what you already know and keep learning!"
   ]
  },
  {
   "cell_type": "markdown",
   "metadata": {},
   "source": [
    "![\"con_clase\"](https://cdn.ttgtmedia.com/rms/onlineimages/whatis-object_oriented_programming_half_column_mobile.png)"
   ]
  },
  {
   "cell_type": "markdown",
   "metadata": {},
   "source": [
    "https://realpython.com/python3-object-oriented-programming/"
   ]
  },
  {
   "cell_type": "markdown",
   "metadata": {},
   "source": [
    "## Exercise 1. "
   ]
  },
  {
   "cell_type": "markdown",
   "metadata": {},
   "source": [
    "A friend of yours have asked you to define a class so they can use it at the Natural History Museum in London in order to describe dinosaurs. \n",
    "\n",
    "Since you have no idea about dinosaurs he has given you a couple of instructions:\n",
    "\n",
    "   - Dinosaurs have four attributes all along the whole kind:\n",
    "        - They all have teeth, although every one of them have a different number of those\n",
    "        - Special skills which will be an empty list \n",
    "        - He finds interesting to specify if they are dangerous with a boolean, he also told you to set it False since usually they are very nice \n",
    "        - All of them have an only head\n",
    "        \n",
    "        \n",
    "   - Define also a couple of methods:\n",
    "   \n",
    "       - `many_teeth` --> number of teeth gives you a clue of how old the dinosaurs are, that's why it could be interesting to be able to change the number of teeth they have.\n",
    "       - `add_skill` --> this method add skills to each dinosaurs instance. \n",
    "       - `is_dangerous` --> not all of the dinosaurs are nice, some of them are a little bit dangerous and could attacks you, with this method you should be able to change the boolean set. Make sure, using `if`, the argument is always a boolean, if not print something like \"Remember you should give a boolean, True or False?\"\n"
   ]
  },
  {
   "cell_type": "code",
   "execution_count": 18,
   "metadata": {},
   "outputs": [],
   "source": [
    "# define a class Dinosaur\n",
    "class Dinosaur():\n",
    "    def __init__(self,teeth,skills,dangerous = None, head = 1):\n",
    "        self.teeth = teeth\n",
    "        self.skills = skills\n",
    "        self.dangerous = dangerous\n",
    "        self.head = head\n",
    "    \n",
    "    def many_teeth(self, teeth):\n",
    "        self.many_teeth = teeth\n",
    "    \n",
    "    def add_skills(self, skill):\n",
    "        self.skills.append(skill)\n",
    "\n",
    "    def is_dangerous(self,danger):\n",
    "        if isinstance(danger,bool) != True:\n",
    "            print(\"Remember you should give a boolean, True or False\")\n",
    "        else:\n",
    "            self.dangerous = danger\n"
   ]
  },
  {
   "cell_type": "markdown",
   "metadata": {},
   "source": [
    "Once you have the class Dinosaur and its methods defined, create an instance **tyrannosaurus**. Your friend has told you that Tyrannosaurus rex had 50 to 60 solid cone-shaped teeth as big as bananas. Set the number of teeth as 60 since you will have the opportunity of changing it later using the method `many_teeth`. "
   ]
  },
  {
   "cell_type": "code",
   "execution_count": 19,
   "metadata": {},
   "outputs": [],
   "source": [
    "# create an Tyrannosaurus rex with 60 teeth\n",
    "Tyrannosaurus = Dinosaur (teeth = 60,skills=[])"
   ]
  },
  {
   "cell_type": "markdown",
   "metadata": {},
   "source": [
    "Tyrannosaurus rex are the most dangerous dinosaurs so please, use the method `is_dangerous` with the argument \"yes, it is dangerous\", to set this up. It should return a message telling you to give a boolean, True or False, instead of the string you used as argument. "
   ]
  },
  {
   "cell_type": "code",
   "execution_count": 15,
   "metadata": {},
   "outputs": [
    {
     "output_type": "stream",
     "name": "stdout",
     "text": [
      "Remember you should give a boolean, True or False\n"
     ]
    }
   ],
   "source": [
    "# call is_dangerous method saying \"yes, it is dangerous\"\n",
    "Tyrannosaurus.is_dangerous(\"yes, it is dangerous\")\n"
   ]
  },
  {
   "cell_type": "markdown",
   "metadata": {},
   "source": [
    "Good try! But you need to set this with a boolean. Since tyrannosaurus rex are dangerous give True as an argument to the method `is_dangerous`."
   ]
  },
  {
   "cell_type": "code",
   "execution_count": 20,
   "metadata": {},
   "outputs": [],
   "source": [
    "# call is_dangerous method with True as an argument\n",
    "Tyrannosaurus.is_dangerous(True)\n"
   ]
  },
  {
   "cell_type": "markdown",
   "metadata": {},
   "source": [
    "Set \"lethality\" as an special skill of the tyrannosaurus rex using the `add_skill` method. "
   ]
  },
  {
   "cell_type": "code",
   "execution_count": 21,
   "metadata": {},
   "outputs": [],
   "source": [
    "# give lethality as an argument to the method add_skill\n",
    "Tyrannosaurus.add_skills(\"lethaly\")"
   ]
  },
  {
   "cell_type": "markdown",
   "metadata": {},
   "source": [
    "Show its `special_skill` to make sure you add the skill as expected."
   ]
  },
  {
   "cell_type": "code",
   "execution_count": 22,
   "metadata": {},
   "outputs": [
    {
     "output_type": "stream",
     "name": "stdout",
     "text": [
      "['lethaly']\n"
     ]
    }
   ],
   "source": [
    "# show its special_skill \n",
    "print(Tyrannosaurus.skills)"
   ]
  },
  {
   "cell_type": "markdown",
   "metadata": {},
   "source": [
    "If you could add \"lethality\" to the tyrannosaurus special skills, let's try now adding \"strength\"."
   ]
  },
  {
   "cell_type": "code",
   "execution_count": 24,
   "metadata": {},
   "outputs": [
    {
     "output_type": "stream",
     "name": "stdout",
     "text": [
      "['lethaly', 'strength', 'strength']\n"
     ]
    }
   ],
   "source": [
    "# add strength to the list of special_skill\n",
    "Tyrannosaurus.add_skills(\"strength\")\n",
    "print(Tyrannosaurus.skills)"
   ]
  },
  {
   "cell_type": "markdown",
   "metadata": {},
   "source": [
    "Now, you know a lot about tyrannosaurus rex and found out the most of them lose some teeth due to their diet during their life, so 50 teeth should be more realistic. Use `many_teeth` method. "
   ]
  },
  {
   "cell_type": "code",
   "execution_count": 25,
   "metadata": {},
   "outputs": [],
   "source": [
    "# set 50 teeth as the number of teeth\n",
    "Tyrannosaurus.many_teeth(50)"
   ]
  },
  {
   "cell_type": "markdown",
   "metadata": {},
   "source": [
    "Show the tyrannosaurus rex's attributes defining a dictionary called `tyrannosaurus_data`. The keys should be the attributes: `teeth`, `danger`, `head`, `special_skill`, and the values those given to the attributes during the exercise.\n",
    "\n",
    "*Hint: You could solve this exercise using a function. Try google.* "
   ]
  },
  {
   "cell_type": "code",
   "execution_count": 29,
   "metadata": {},
   "outputs": [
    {
     "output_type": "execute_result",
     "data": {
      "text/plain": [
       "{'teeth': 60,\n",
       " 'skills': ['lethaly', 'strength', 'strength'],\n",
       " 'dangerous': True,\n",
       " 'head': 1,\n",
       " 'many_teeth': 50}"
      ]
     },
     "metadata": {},
     "execution_count": 29
    }
   ],
   "source": [
    "# create the tyrannosaurus_data dictionary\n",
    "# tyrannosaurus_data = {\"teeth\":\"\",\"danger\":\"\",\"head\":\"\",\"special_skill\":\"\"}\n",
    "\n",
    "def dict_from_class(cls):\n",
    "    return dict((key, value) for (key, value) in cls.__dict__.items())\n",
    "\n",
    "tyrannosaurus_data = dict_from_class(Tyrannosaurus)\n",
    "tyrannosaurus_data"
   ]
  },
  {
   "cell_type": "markdown",
   "metadata": {},
   "source": [
    "\n",
    "### Bonus\n",
    "\n",
    "Try to define a function named `if_danger` which check if **Dinosaur** is dangerous and if it is, then return something like \"RUN FOR YOUR LIFE, THIS GUY IS HUNGRY AND EAT PEOPLE\", in case the dinosaur isn't dangerous return \"all good, nothing to fear\".\n",
    "\n",
    "Call the function using as an argument the attribute `danger` of the **tyrannosaurus**."
   ]
  },
  {
   "cell_type": "code",
   "execution_count": 30,
   "metadata": {},
   "outputs": [],
   "source": [
    "# define if_danger with one parameter\n",
    "def if_danger(danger_attribute):\n",
    "    if danger_attribute == True:\n",
    "        print(\"RUN FOR YOU LIFE, THIS GUY IS HUNGRY AND EAT PEOPLE\")\n",
    "    else:\n",
    "        print(\"All good, nothing to fear\")\n"
   ]
  },
  {
   "cell_type": "code",
   "execution_count": 31,
   "metadata": {},
   "outputs": [
    {
     "output_type": "stream",
     "name": "stdout",
     "text": [
      "RUN FOR YOU LIFE, THIS GUY IS HUNGRY AND EAT PEOPLE\n"
     ]
    }
   ],
   "source": [
    "# invoked the if_danger function\n",
    "if_danger(Tyrannosaurus.dangerous)"
   ]
  },
  {
   "cell_type": "markdown",
   "metadata": {},
   "source": [
    "## Exercise 2. "
   ]
  },
  {
   "cell_type": "markdown",
   "metadata": {},
   "source": [
    "A company is opening a bank, but the coder who is designing the user class made some errors. They need you to help them.\n",
    "\n",
    "You must include the following:\n",
    "\n",
    "**A withdraw method**\n",
    "- Subtracts money from balance\n",
    "- One parameter, money to withdraw\n",
    "- Raise ValueError if there isn't enough money to withdraw\n",
    "- Return a string with name and balence(see examples)\n",
    "\n",
    "**A check method**\n",
    "- Adds money to baleance\n",
    "- Two parameters, other user and money\n",
    "- Other user will always be valid\n",
    "- Raise a ValueError if other user doesn't have enough money\n",
    "- Raise a ValueError if checking_account isn't true for other user\n",
    "- Return a string with name and balance plus other name and other balance(see examples)\n",
    "\n",
    "**An add_cash method**\n",
    "- Adds money to balance\n",
    "- One parameter, money to add\n",
    "- Return a string with name and balance(see examples)\n",
    "\n",
    "**Additional Notes:**\n",
    "\n",
    "- Checking_account should be stored as a boolean\n",
    "- No input numbers will be negitive\n",
    "- Output must end with period\n",
    "- Float numbers will not be used so, balance should be integer\n",
    "- No currency will be used"
   ]
  },
  {
   "cell_type": "markdown",
   "metadata": {},
   "source": [
    "KATA --> https://www.codewars.com/kata/5a03af9606d5b65ff7000009"
   ]
  },
  {
   "cell_type": "markdown",
   "metadata": {},
   "source": [
    "**If you dare trying to solve this problem, you'll need this:** https://www.w3schools.com/python/gloss_python_raise.asp"
   ]
  },
  {
   "cell_type": "code",
   "execution_count": 59,
   "metadata": {},
   "outputs": [],
   "source": [
    "#your code here\n",
    "class User():\n",
    "    def __init__(self,name,balance,check_allow):\n",
    "        self.name = name\n",
    "        self.balance = int(balance)\n",
    "        self.check_allow = int(check_allow)\n",
    "    \n",
    "    def withdraw(self,withdraw_to_quit):\n",
    "        if self.balance < withdraw_to_quit:\n",
    "            raise ValueError()\n",
    "        else:\n",
    "            self.balance -= withdraw_to_quit\n",
    "            print(\"{nam} has now {bal}€.\".format(nam = self.name, bal = self.balance))\n",
    "    \n",
    "    def check(self,name, money_to_give):\n",
    "        if name.check_allow == True:\n",
    "            if name.balance >= money_to_give:\n",
    "                self.balance += int(money_to_give)\n",
    "                name.balance -= int(money_to_give)\n",
    "            else:\n",
    "                raise ValueError()\n",
    "            print(\"{nam1} has {bal1}€ and {nam2} has {bal2}€.\".format(nam1 = self.name,bal1 = self.balance,nam2 = name.name, bal2 = name.balance))\n",
    "        else:\n",
    "            raise ValueError()\n",
    "    \n",
    "    def add_cash(self, money):\n",
    "        self.balance += int(money)\n",
    "        print(\"{nam} has now {bal}€.\".format(nam = self.name, bal = self.balance))\n",
    "        \n",
    "\n",
    "        \n",
    "        \n",
    "        \n"
   ]
  },
  {
   "cell_type": "code",
   "execution_count": 63,
   "metadata": {},
   "outputs": [
    {
     "output_type": "stream",
     "name": "stdout",
     "text": [
      "Jeff has now 68€.\nJoe has 120€ and Jeff has 18€.\nJeff has 98€ and Joe has 40€.\nJeff has now 118€.\n"
     ]
    }
   ],
   "source": [
    "# Lo siento, pero no me lo he currado mucho... día largo\n",
    "\n",
    "Jeff = User('Jeff', 70, True)\n",
    "Joe = User('Joe', 70, False)\n",
    "\n",
    "Jeff.withdraw(2) # Returns 'Jeff has 68.'\n",
    "\n",
    "Joe.check(Jeff, 50) # Returns 'Joe has 120 and Jeff has 18.'\n",
    "\n",
    "####Lo quito para compilar\n",
    "##Jeff.check(Joe, 80) # Raises a ValueError\n",
    "\n",
    "Joe.check_allow = True # Enables checking for Joe\n",
    "\n",
    "Jeff.check(Joe, 80) # Returns 'Jeff has 98 and Joe has 40'\n",
    "\n",
    "####Lo quito para compilar\n",
    "##Joe.check(Jeff, 100) # Raises a ValueError\n",
    "\n",
    "Jeff.add_cash(20.00) # Returns 'Jeff has 118.'"
   ]
  },
  {
   "cell_type": "code",
   "execution_count": null,
   "metadata": {},
   "outputs": [],
   "source": []
  }
 ],
 "metadata": {
  "kernelspec": {
   "name": "python3",
   "display_name": "Python 3.9.0 64-bit",
   "metadata": {
    "interpreter": {
     "hash": "7812ea015bdcee6f23a998adcdd2ef97c151c0c241b7b7070987d9313e41299d"
    }
   }
  },
  "language_info": {
   "codemirror_mode": {
    "name": "ipython",
    "version": 3
   },
   "file_extension": ".py",
   "mimetype": "text/x-python",
   "name": "python",
   "nbconvert_exporter": "python",
   "pygments_lexer": "ipython3",
   "version": "3.9.0-final"
  }
 },
 "nbformat": 4,
 "nbformat_minor": 4
}