{
 "cells": [
  {
   "cell_type": "markdown",
   "metadata": {},
   "source": [
    "# Python | day 4 | for loop, functions (feat. basics & if/else) "
   ]
  },
  {
   "cell_type": "markdown",
   "metadata": {},
   "source": [
    "### Exercise 0.1 - Python Basics\n",
    "\n",
    "1. What do we use to make a line break in a print? And for a tab stop?\n",
    "\n",
    "have a look ---> http://elclubdelautodidacta.es/wp/2012/04/python-capitulo-31-exprimiendo-la-funcion-print/"
   ]
  },
  {
   "cell_type": "code",
   "execution_count": null,
   "metadata": {},
   "outputs": [],
   "source": [
    "#usamos \\n para hacer salto de linea y \\t para tabulador"
   ]
  },
  {
   "cell_type": "markdown",
   "metadata": {},
   "source": [
    "2. Make a converter from dollars to euros. You'll have to use input."
   ]
  },
  {
   "cell_type": "code",
   "execution_count": 3,
   "metadata": {},
   "outputs": [
    {
     "output_type": "stream",
     "name": "stdout",
     "text": [
      "Ud. tiene:\t 47.04 EUR\n"
     ]
    }
   ],
   "source": [
    "USD = float(input(\"Introduzca sus dolares:\"))\n",
    "cambio = 0.84\n",
    "\n",
    "print(\"Ud. tiene:\\t\", USD*cambio,\"EUR\")"
   ]
  },
  {
   "cell_type": "markdown",
   "metadata": {},
   "source": [
    "3. Declare two strings, one will be your first name and the other your last name. Declare your age in another variable. Print a sentence which include those variables, using ```f{}```. Wtf is that? check this out **-->** https://realpython.com/python-string-formatting/"
   ]
  },
  {
   "cell_type": "code",
   "execution_count": 5,
   "metadata": {},
   "outputs": [
    {
     "output_type": "stream",
     "name": "stdout",
     "text": [
      "¡Hola! Me llamo Alex Balseiro, y tengo 32 años\n"
     ]
    }
   ],
   "source": [
    "nombre = \"Alex\"\n",
    "apellido = \"Balseiro\"\n",
    "age = 32\n",
    "\n",
    "print(\"¡Hola! Me llamo {nombre} {apellido}, y tengo {age} años\".format(nombre=nombre,apellido=apellido,age=age))"
   ]
  },
  {
   "cell_type": "markdown",
   "metadata": {},
   "source": [
    "4. Given the list `[4,7, -3]`, calculate its maximum, minimum and sum."
   ]
  },
  {
   "cell_type": "code",
   "execution_count": 7,
   "metadata": {},
   "outputs": [
    {
     "output_type": "stream",
     "name": "stdout",
     "text": [
      "Los números a tratar son:\t\n [4, 7, -3] \n -------- \nEl máximo es:\t 7 \nEl mínimo es:\t -3 \nLa suma es:\t 8\n"
     ]
    }
   ],
   "source": [
    "num = [4,7, -3]\n",
    "\n",
    "print(\"Los números a tratar son:\\t\\n\",num,\"\\n -------- \\nEl máximo es:\\t\",max(num),\"\\nEl mínimo es:\\t\",min(num),\"\\nLa suma es:\\t\",sum(num))"
   ]
  },
  {
   "cell_type": "markdown",
   "metadata": {},
   "source": [
    "5. Round `38.38276252728` to 5 decimal places.\n"
   ]
  },
  {
   "cell_type": "code",
   "execution_count": 8,
   "metadata": {},
   "outputs": [
    {
     "output_type": "stream",
     "name": "stdout",
     "text": [
      "38.38276\n"
     ]
    }
   ],
   "source": [
    "print(round(38.38276252728,5))"
   ]
  },
  {
   "cell_type": "markdown",
   "metadata": {},
   "source": [
    "6. Make the phrase `\"Born to be wild\"` uppercase, then lowercase, divide it by spaces, and finally, replace `\"wild\"` with `\"Geek.\"`"
   ]
  },
  {
   "cell_type": "code",
   "execution_count": 10,
   "metadata": {},
   "outputs": [
    {
     "output_type": "stream",
     "name": "stdout",
     "text": [
      "BORN TO BE WILD\nborn to be wild\n['Born', 'to', 'be', 'wild']\nBorn to be Geek\n"
     ]
    }
   ],
   "source": [
    "phrase = \"Born to be wild\"\n",
    "print(phrase.upper())\n",
    "print(phrase.lower())\n",
    "print(phrase.split())\n",
    "print(phrase.replace(\"wild\",\"Geek\"))"
   ]
  },
  {
   "cell_type": "markdown",
   "metadata": {},
   "source": [
    "7. Create a program where two inputs are collected, and the output of the program is a boolean which tell the user whether those inputs are the same or not.\n"
   ]
  },
  {
   "cell_type": "code",
   "execution_count": null,
   "metadata": {},
   "outputs": [],
   "source": [
    "a = int(input(\"Enter A:\"))\n",
    "b = int(input(\"Enter B:\"))\n",
    "\n",
    "if a > b:\n",
    "    print(\"A is greater than B\")\n",
    "elif a < b:\n",
    "    print(\"B is greater than A\")\n",
    "else:\n",
    "    print(\"A and B are the same number\")"
   ]
  },
  {
   "cell_type": "markdown",
   "metadata": {},
   "source": []
  },
  {
   "cell_type": "markdown",
   "metadata": {},
   "source": [
    "### Exercise 0.2 - If/else\n",
    "\n",
    "1. Create a decission tree using if/else sentences, to determine the price of the movies ticket. If the client's age is between 5 and 15 years, both included, the price will be 5, if she/he is retired and the movie is one of the `peliculas_discount`, the price is 4. In any other case, it will be 7 euros.\n",
    "\n",
    "You should create the list of `peliculas_discount` with your favourites movies. "
   ]
  },
  {
   "cell_type": "code",
   "execution_count": 22,
   "metadata": {},
   "outputs": [
    {
     "output_type": "stream",
     "name": "stdout",
     "text": [
      "¿Que película quiere ver?\n",
      " ['El imperio contraataca', 'El club de las primeras esposas', 'Alien', 'Expediente Warren', 'La purga', 'La chica danesa', 'Indiana Jones']\n",
      "La entrada cuesta 7 €\n"
     ]
    }
   ],
   "source": [
    "age = int(input(\"¿cuantos años tiene?\"))\n",
    "peliculas_discount = [\"El imperio contraataca\", \"El club de las primeras esposas\",\"Alien\",\"Expediente Warren\",\"La purga\",\"La chica danesa\",\"Indiana Jones\"] #voy a parar que me lío yo solo...\n",
    "\n",
    "precio = 7\n",
    "\n",
    "if age >= 5 and age<= 15:\n",
    "    precio = 5\n",
    "elif age >= 60:\n",
    "    print(\"¿Que película quiere ver?\\n\", peliculas_discount) #lease con voz metalizada de taquillero de cine\n",
    "    pelicula = input()\n",
    "    for i in peliculas_discount:\n",
    "        if pelicula == i:\n",
    "            precio = 4\n",
    "            break\n",
    "\n",
    "print(\"La entrada cuesta {precio} €\".format(precio=precio))"
   ]
  },
  {
   "cell_type": "markdown",
   "metadata": {},
   "source": [
    "### Exercise 1 - For\n",
    "\n",
    "If you find a way of solving any of these questions below without using for loop, don't hesitate to do it. "
   ]
  },
  {
   "cell_type": "markdown",
   "metadata": {},
   "source": [
    "1. Prints the numbers between 0 and 70 that are multiples of 3 and 5."
   ]
  },
  {
   "cell_type": "code",
   "execution_count": 23,
   "metadata": {},
   "outputs": [
    {
     "output_type": "stream",
     "name": "stdout",
     "text": [
      "0\n15\n30\n45\n60\n"
     ]
    }
   ],
   "source": [
    "for n in range(71):\n",
    "    if n%3 == 0 and n%5 == 0:\n",
    "        print(n)\n"
   ]
  },
  {
   "cell_type": "markdown",
   "metadata": {},
   "source": [
    "2. Print the following pattern:\n",
    "\n",
    "```python\n",
    "1\n",
    "22\n",
    "333\n",
    "4444\n",
    "55555\n",
    "666666\n",
    "7777777\n",
    "88888888\n",
    "999999999\n",
    "```\n"
   ]
  },
  {
   "cell_type": "code",
   "execution_count": 30,
   "metadata": {},
   "outputs": [
    {
     "output_type": "stream",
     "name": "stdout",
     "text": [
      "1\n22\n333\n4444\n55555\n666666\n7777777\n88888888\n999999999\n"
     ]
    }
   ],
   "source": [
    "m = 1\n",
    "for i in range(9):\n",
    "    print((i+1)*m)\n",
    "    m = m*10+1\n"
   ]
  },
  {
   "cell_type": "markdown",
   "metadata": {
    "collapsed": true
   },
   "source": [
    "3. Given to list of same lenght, create a third list which contains the sum of both of the list, element by element. "
   ]
  },
  {
   "cell_type": "markdown",
   "metadata": {},
   "source": [
    "```python\n",
    "Example: \n",
    "a = [1,2]\n",
    "b = [4,5]\n",
    "new_list = [5,7]\n",
    "```\n"
   ]
  },
  {
   "cell_type": "code",
   "execution_count": 49,
   "metadata": {},
   "outputs": [
    {
     "output_type": "stream",
     "name": "stdout",
     "text": [
      "1\n5\n[5, 7]\n"
     ]
    }
   ],
   "source": [
    "# Hago el código pensando en escalabilidad, en que se pudiesen meter matrices de misma dimensión, pero n longitud\n",
    "\n",
    "a = [1,2]\n",
    "b = [4,5]\n",
    "new_list = a #asigno una de las matrices cualquiera para que no entre desde vacío y no me de problemas\n",
    "for posa,vala in enumerate(a):\n",
    "    for posb,valb in enumerate(b):\n",
    "        if posa == posb:\n",
    "            new_list[posb] = (vala + valb)\n",
    "\n",
    "print(new_list)"
   ]
  },
  {
   "cell_type": "markdown",
   "metadata": {},
   "source": [
    "4. Get first, second best scores from the list.\n",
    "List contains duplicates."
   ]
  },
  {
   "cell_type": "code",
   "execution_count": 50,
   "metadata": {},
   "outputs": [],
   "source": [
    "scores = [86,86,85,85,85,83,23,45,84,1,2,0]"
   ]
  },
  {
   "cell_type": "code",
   "execution_count": 68,
   "metadata": {},
   "outputs": [
    {
     "output_type": "stream",
     "name": "stdout",
     "text": [
      "[86, 85, 84]\n"
     ]
    }
   ],
   "source": [
    "scor = list(set(scores))\n",
    "scor = list(sorted(scor))\n",
    "scor = list(reversed(scor))\n",
    "\n",
    "print(scor[0:3])\n"
   ]
  },
  {
   "cell_type": "markdown",
   "metadata": {},
   "source": [
    "5. From the given list:\n",
    "    \n",
    "    a) Create separate lists of strings and numbers.\n",
    "\n",
    "    b) Sort the strings' list in ascending order\n",
    "\n",
    "    c) Sort the strings' list in descending order\n",
    "\n",
    "    d) Sort the number's list from lowest to highest\n",
    "\n",
    "    e) Sort the number's list from highest to lowest"
   ]
  },
  {
   "cell_type": "code",
   "execution_count": 69,
   "metadata": {},
   "outputs": [],
   "source": [
    "gadgets = [\"Mobile\", \"Laptop\", 100, \"Camera\", 310.28, \"Speakers\", 27.00, \n",
    "           \"Television\", 1000, \"Laptop Case\", \"Camera Lens\"]"
   ]
  },
  {
   "cell_type": "code",
   "execution_count": 85,
   "metadata": {},
   "outputs": [
    {
     "output_type": "stream",
     "name": "stdout",
     "text": [
      "a)\nText:\t ['Mobile', 'Laptop', 'Camera', 'Speakers', 'Television', 'Laptop Case', 'Camera Lens'] \nNum:\t [100, 310.28, 27.0, 1000]\n\nb)\nText sorted ascending:\t ['Camera', 'Camera Lens', 'Laptop', 'Laptop Case', 'Mobile', 'Speakers', 'Television']\n\nc)\nText sorted descending:\t ['Television', 'Speakers', 'Mobile', 'Laptop Case', 'Laptop', 'Camera Lens', 'Camera']\n\nd)\nNums sorted ascending:\t [27.0, 100, 310.28, 1000]\n\ne)\nNum sorted descending:\t [1000, 310.28, 100, 27.0]\n"
     ]
    }
   ],
   "source": [
    "\n",
    "tex = []\n",
    "num = []\n",
    "\n",
    "for pos,val in enumerate(gadgets):\n",
    "    if type(val) == str:\n",
    "        tex.append(val)\n",
    "    else:\n",
    "        num.append(val)\n",
    "\n",
    "print(\"a)\\nText:\\t\",tex,\"\\nNum:\\t\",num)\n",
    "tex = sorted(tex)\n",
    "print(\"\\nb)\\nText sorted ascending:\\t\",tex)\n",
    "tex.reverse()\n",
    "print(\"\\nc)\\nText sorted descending:\\t\",tex)\n",
    "num.sort()\n",
    "print(\"\\nd)\\nNums sorted ascending:\\t\",num)\n",
    "num.reverse()\n",
    "print(\"\\ne)\\nNum sorted descending:\\t\",num)\n"
   ]
  },
  {
   "cell_type": "markdown",
   "metadata": {},
   "source": [
    "6. Make a list of ten aliens, each of which is one color: 'red', 'green', or 'blue'.\n",
    "    - You can shorten this to 'r', 'g', and 'b' if you want, but if you choose this option you have to include a comment explaining what r, g, and b stand for.\n",
    "    - Red aliens are worth 5 points, green aliens are worth 10 points, and blue aliens are worth 20 points.\n",
    "    - Use a for loop to determine the number of points a player would earn for destroying all of the aliens in your list."
   ]
  },
  {
   "cell_type": "code",
   "execution_count": 98,
   "metadata": {},
   "outputs": [
    {
     "output_type": "stream",
     "name": "stdout",
     "text": [
      "Tus alien son:\n ['red', 'green', 'blue', 'blue', 'red', 'green', 'red', 'blue', 'blue', 'green']\n----------------------\nTu total de puntos puede llegar a ser: 125\n"
     ]
    }
   ],
   "source": [
    "import random\n",
    "alien = []\n",
    "\n",
    "#Para hacerlo más gracioso, que se genere una lista aleatoria cada vez\n",
    "for i in range(10):\n",
    "    r = random.randint(1,3)\n",
    "    if r == 1:\n",
    "        alien.append(\"red\")\n",
    "    elif r == 2:\n",
    "        alien.append(\"green\")\n",
    "    else:\n",
    "        alien.append(\"blue\")\n",
    "\n",
    "puntos = 0\n",
    "for al in alien:\n",
    "    if al == \"red\":\n",
    "        puntos += 5\n",
    "    elif al == \"green\":\n",
    "        puntos += 10\n",
    "    else:\n",
    "        puntos += 20\n",
    "\n",
    "print(\"Tus alien son:\\n\",alien)\n",
    "print(\"----------------------\\nTu total de puntos puede llegar a ser:\",puntos)\n",
    "    \n",
    "\n"
   ]
  },
  {
   "cell_type": "markdown",
   "metadata": {},
   "source": [
    "### Exercise 2 - Functions"
   ]
  },
  {
   "cell_type": "markdown",
   "metadata": {},
   "source": [
    "1. Write a function program to sum up two given different numbers. "
   ]
  },
  {
   "cell_type": "code",
   "execution_count": 99,
   "metadata": {},
   "outputs": [
    {
     "output_type": "stream",
     "name": "stdout",
     "text": [
      "5\n"
     ]
    }
   ],
   "source": [
    "def mi_sum(a,b):\n",
    "    print(a+b)\n",
    "\n",
    "mi_sum(2,3)"
   ]
  },
  {
   "cell_type": "markdown",
   "metadata": {},
   "source": [
    "2. Write a Python program to convert a tuple of characters into a string.\n",
    "\n",
    "    - Sample tuple: `(\"T\", \"H\", \"E\", \" \", \"B\", \"R\", \"I\", \"D\", \"G\", \"E\")`\n",
    "    - Expected output : `\"THE BRIDGE\"`\n",
    "    \n",
    "Hint: Turn it into a list. "
   ]
  },
  {
   "cell_type": "code",
   "execution_count": 101,
   "metadata": {},
   "outputs": [
    {
     "output_type": "stream",
     "name": "stdout",
     "text": [
      "THE BRIDGE\n"
     ]
    }
   ],
   "source": [
    "def conv_tup(tup):\n",
    "    tup = list(tup)\n",
    "    stt = \"\"\n",
    "    for j in tup:\n",
    "        stt = stt + j\n",
    "    return stt\n",
    "\n",
    "tt = (\"T\", \"H\", \"E\", \" \", \"B\", \"R\", \"I\", \"D\", \"G\", \"E\")\n",
    "t = conv_tup(tt)\n",
    "print(t)\n"
   ]
  },
  {
   "cell_type": "markdown",
   "metadata": {},
   "source": [
    "3. Write a Python program to generate a list where the values are square of numbers between 1 and 30 (both included), and return a list of first and last 5 elements of the list."
   ]
  },
  {
   "cell_type": "code",
   "execution_count": 105,
   "metadata": {},
   "outputs": [
    {
     "output_type": "stream",
     "name": "stdout",
     "text": [
      "Lista de resultados:\n [1, 4, 9, 16] \n [676, 729, 784, 841]\n"
     ]
    }
   ],
   "source": [
    "def sqr (n):\n",
    "    return n*n\n",
    "\n",
    "lista = []\n",
    "for m in range(30):\n",
    "    lista.append(sqr(m+1))\n",
    "\n",
    "print(\"Lista de resultados:\\n\",lista[0:4],\"\\n\",lista[-5:-1])"
   ]
  },
  {
   "cell_type": "markdown",
   "metadata": {},
   "source": [
    "4. Create a Python program that calculates the factorial of a number.\n",
    "\n",
    "The program will ask the user to enter a number (input) and will return the factorial of that number."
   ]
  },
  {
   "cell_type": "code",
   "execution_count": 116,
   "metadata": {},
   "outputs": [
    {
     "output_type": "stream",
     "name": "stdout",
     "text": [
      "el factorial de 6 es: 720\n"
     ]
    }
   ],
   "source": [
    "def factorial(M):\n",
    "    fac = 1\n",
    "    for i in range(M+1):\n",
    "        if i == 0:\n",
    "            continue\n",
    "        fac = i*fac\n",
    "    return fac\n",
    "\n",
    "num = int(input(\"introduzca un numero:\"))\n",
    "print (\"el factorial de\",num,\"es:\",factorial(num))"
   ]
  },
  {
   "cell_type": "markdown",
   "metadata": {},
   "source": [
    "5. Create a program that calculates the average.\n",
    "\n",
    "The program will ask the user to specify how many numbers you want to enter, and will show a prompt to include number by number to a list, and then calculate the average of each number in that list."
   ]
  },
  {
   "cell_type": "code",
   "execution_count": 118,
   "metadata": {},
   "outputs": [
    {
     "output_type": "stream",
     "name": "stdout",
     "text": [
      "la media de los números es: 103.0\n"
     ]
    }
   ],
   "source": [
    "def ave(nums):\n",
    "    return sum(nums)/len(nums)\n",
    "\n",
    "siz = int(input(\"¿cuantos números quiere introducir\"))\n",
    "\n",
    "numeros = []\n",
    "for j in range(siz):\n",
    "    numeros.append(float(input())) \n",
    "    \n",
    "print(\"la media de los números es:\",ave(numeros))"
   ]
  },
  {
   "cell_type": "markdown",
   "metadata": {},
   "source": [
    "# If you made it till here you did a fantastic work!"
   ]
  },
  {
   "cell_type": "markdown",
   "metadata": {},
   "source": [
    "![\"holo\"](https://img-9gag-fun.9cache.com/photo/aNg9wMK_460s.jpg)"
   ]
  },
  {
   "cell_type": "code",
   "execution_count": null,
   "metadata": {},
   "outputs": [],
   "source": []
  }
 ],
 "metadata": {
  "kernelspec": {
   "name": "python3",
   "display_name": "Python 3.9.0 64-bit",
   "metadata": {
    "interpreter": {
     "hash": "7812ea015bdcee6f23a998adcdd2ef97c151c0c241b7b7070987d9313e41299d"
    }
   }
  },
  "language_info": {
   "codemirror_mode": {
    "name": "ipython",
    "version": 3
   },
   "file_extension": ".py",
   "mimetype": "text/x-python",
   "name": "python",
   "nbconvert_exporter": "python",
   "pygments_lexer": "ipython3",
   "version": "3.9.0-final"
  }
 },
 "nbformat": 4,
 "nbformat_minor": 4
}