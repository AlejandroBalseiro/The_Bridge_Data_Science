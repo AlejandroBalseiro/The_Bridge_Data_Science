{
 "metadata": {
  "language_info": {
   "codemirror_mode": {
    "name": "ipython",
    "version": 3
   },
   "file_extension": ".py",
   "mimetype": "text/x-python",
   "name": "python",
   "nbconvert_exporter": "python",
   "pygments_lexer": "ipython3",
   "version": 3
  },
  "orig_nbformat": 2
 },
 "nbformat": 4,
 "nbformat_minor": 2,
 "cells": [
  {
   "source": [
    "Crea una función llamada \"generador\" con dos argumentos de entrada 'longitud' (entero) y 'dificultad' (entero). La función retornará una contraseña (string) de tamaño 'longitud' y con las siguientes características dependiendo del valor de 'dificultad':\n",
    "\n",
    "1. Si 'dificultad' tiene valor 1, entonces la contraseña solo contendrá números. \n",
    "2. Si 'dificultad' tiene valor 2, entonces la contraseña contendrá números y letras\n",
    "3. Si 'dificultad' tiene valor 3, entonces la contraseña contendrá números, letras y signos de puntuación (!,?¡:-.\"')\n",
    "4. Si 'dificultad' tiene valor 4, entonces la contraseña será como la del punto 3. pero con el doble de longitud y solo números pares. \n",
    "5. Para cualquier otro caso, la contraseña será \"numpy_y_pandas_son_lo_mejor\""
   ],
   "cell_type": "markdown",
   "metadata": {}
  },
  {
   "cell_type": "code",
   "execution_count": null,
   "metadata": {},
   "outputs": [],
   "source": [
    "import random\n",
    "def ran_conf(base,longitud):\n",
    "    return \"\".join(random.sample(base,longitud))\n",
    "\n",
    "def psw_creator(longitud,dificulty):\n",
    "    \n",
    "    num =\"0123456789\"\n",
    "    let = \"abcdefghyjklmnopqrstuvw\"\n",
    "    LET = let.upper()\n",
    "    symbols =\"!@#$%&/=?¿¡_-¨*+<>\"\n",
    "\n",
    "    if int(dificulty) == 1:\n",
    "        psw = ran_conf(num,longitud)\n",
    "    elif int(dificulty) == 2:\n",
    "        psw = ran_conf(num*3+let+LET,longitud) #para equilibrar las probabilidades de que aparezca número, incremento la longitud para machear las otras dos (aprox)\n",
    "    elif int(dificulty) == 3:\n",
    "        psw = ran_conf(num*4+let+LET+symbols,longitud)\n",
    "    else:        \n",
    "        impar =\"13579\"\n",
    "        psw = ran_conf(impar*3+let+LET,longitud*2)\n",
    "    return psw\n",
    "    \n",
    "\n",
    "dificulty = int(input(\"Please, determine the strength of the password in a scale 1 to 4\"))\n",
    "longitud = int(input(\"Please, introduce the length of the psw\"))\n",
    "\n",
    "psw = psw_creator(longitud,dificulty)\n",
    "print(\"Your PSW is:\",psw)"
   ]
  }
 ]
}